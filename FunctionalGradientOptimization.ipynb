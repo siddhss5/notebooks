{
 "cells": [
  {
   "cell_type": "markdown",
   "metadata": {},
   "source": [
    "## Incorporating the Reimannian metric A in optimization\n",
    "Requires an optimization method that can take a Hessian or a Hessian-Product as input.\n",
    "\n",
    "[SciPy Optimize Reference](http://docs.scipy.org/doc/scipy-0.14.0/reference/tutorial/optimize.html)"
   ]
  },
  {
   "cell_type": "code",
   "execution_count": 1,
   "metadata": {
    "collapsed": true
   },
   "outputs": [],
   "source": [
    "import numpy as np\n",
    "import scipy.optimize"
   ]
  },
  {
   "cell_type": "code",
   "execution_count": 35,
   "metadata": {
    "collapsed": true
   },
   "outputs": [],
   "source": [
    "class Sphere(object):\n",
    "    def __init__(self, x, r):\n",
    "        self.x = x\n",
    "        self.r = r\n",
    "    def sdf(self, p):\n",
    "        return np.linalg.norm(p - self.x) - self.r\n",
    "    def sdfgrad(self, p):\n",
    "        import warnings\n",
    "        with warnings.catch_warnings():\n",
    "            warnings.filterwarnings('error')\n",
    "            try:\n",
    "                grad = (p - self.x)/np.linalg.norm(p - self.x)\n",
    "            except Warning as e:\n",
    "                grad = np.zeros(p.shape)\n",
    "        return grad\n",
    "            \n",
    "class SphereSDF(object):\n",
    "    def __init__(self, spheres):\n",
    "        self.spheres = spheres\n",
    "    def sdf(self, p):\n",
    "        return np.min([s.sdf(p) for s in self.spheres])\n",
    "    def sdfgrad(self, p):\n",
    "        i = np.argmin([s.sdf(p) for s in self.spheres])\n",
    "        return self.spheres[i].sdfgrad(p)"
   ]
  },
  {
   "cell_type": "code",
   "execution_count": 95,
   "metadata": {
    "collapsed": true
   },
   "outputs": [],
   "source": [
    "def c(sdf, eps, k):\n",
    "    if (sdf > eps):\n",
    "        return 0.\n",
    "    elif (sdf > 0.):\n",
    "        return (k/2)*(sdf - eps)**2\n",
    "    else:\n",
    "        return k*eps*((eps/2) - 1)"
   ]
  },
  {
   "cell_type": "code",
   "execution_count": 92,
   "metadata": {
    "collapsed": false
   },
   "outputs": [],
   "source": [
    "spheres = [Sphere(np.asarray([0.25, 0.25]), 0.25)]\n",
    "spheres.append(Sphere(np.asarray([0.75, 0.75]), 0.25))\n",
    "sdf = SphereSDF(spheres)"
   ]
  },
  {
   "cell_type": "code",
   "execution_count": 93,
   "metadata": {
    "collapsed": true
   },
   "outputs": [],
   "source": [
    "# From http://stackoverflow.com/questions/20144529/shifted-colorbar-matplotlib\n",
    "from matplotlib.colors import Normalize\n",
    "\n",
    "class MidpointNormalize(Normalize):\n",
    "    def __init__(self, vmin=None, vmax=None, midpoint=None, clip=False):\n",
    "        self.midpoint = midpoint\n",
    "        Normalize.__init__(self, vmin, vmax, clip)\n",
    "\n",
    "    def __call__(self, value, clip=None):\n",
    "        x, y = [self.vmin, self.midpoint, self.vmax], [0, 0.5, 1]\n",
    "        return np.ma.masked_array(np.interp(value, x, y))"
   ]
  },
  {
   "cell_type": "code",
   "execution_count": 104,
   "metadata": {
    "collapsed": false
   },
   "outputs": [
    {
     "data": {
      "text/plain": [
       "<matplotlib.colorbar.Colorbar instance at 0x10ca816c8>"
      ]
     },
     "execution_count": 104,
     "metadata": {},
     "output_type": "execute_result"
    },
    {
     "data": {
      "image/png": "[encoded data removed]",
      "text/plain": [
       "<matplotlib.figure.Figure at 0x10babff10>"
      ]
     },
     "metadata": {},
     "output_type": "display_data"
    },
    {
     "data": {
      "image/png": "[encoded data removed]",
      "text/plain": [
       "<matplotlib.figure.Figure at 0x10c3600d0>"
      ]
     },
     "metadata": {},
     "output_type": "display_data"
    }
   ],
   "source": [
    "delta = 0.025\n",
    "x = np.arange(0, 1.0, delta)\n",
    "y = np.arange(0, 1.0, delta)\n",
    "X, Y = np.meshgrid(x, y)\n",
    "pts = np.vstack((X.flatten(), Y.flatten())).T\n",
    "Z = np.asarray([sdf.sdf(p) for p in pts])\n",
    "eps = 0.1\n",
    "k = 0.1\n",
    "C = np.asarray([c(z, eps, k) for z in Z])\n",
    "Z = Z.reshape(X.shape)\n",
    "C = C.reshape(X.shape)\n",
    "norm = MidpointNormalize(midpoint=0.)\n",
    "CS = plt.contourf(X, Y, Z, norm=norm, cmap=plt.cm.RdBu)\n",
    "plt.axis('equal')\n",
    "plt.colorbar()\n",
    "plt.figure()\n",
    "plt.axis('equal')\n",
    "CS = plt.contourf(X, Y, C, cmap=plt.cm.gray)\n",
    "plt.colorbar()"
   ]
  },
  {
   "cell_type": "code",
   "execution_count": 2,
   "metadata": {
    "collapsed": false
   },
   "outputs": [],
   "source": [
    "def unflat(x, ndim, xs, xt):\n",
    "    xall = x.reshape(x.shape[0]/ndim,ndim)\n",
    "    return np.vstack((xs, xall, xt))\n",
    "\n",
    "def flat(x):\n",
    "    return x.flatten()\n",
    "\n",
    "def optimize(xs, xt, x0=None, npts=10, sdf):\n",
    "    '''\n",
    "    Functional gradient optimization\n",
    "    @param xs - fixed start configuration\n",
    "    @param xt - fixed target configuration\n",
    "    @param x0 - inital seed for waypoints\n",
    "    @param npts - number of waypoints    \n",
    "    @param sdf - a signed distance field\n",
    "    @return res - SciPy dict of optimization result\n",
    "    @return xall - (numIter x npts) iterations\n",
    "    '''\n",
    "    ndim = xs.shape[0]\n",
    "    if x0 is None:\n",
    "        x0 = np.random.rand(npts, ndim)\n",
    "    npts = x0.shape[0]\n",
    "    hess = np.diag([2]*npts*ndim)\n",
    "    rows = np.arange(0, npts*ndim-ndim)\n",
    "    cols = np.arange(ndim, npts*ndim)\n",
    "    hess[rows, cols] = -1\n",
    "    hess[cols, rows] = -1\n",
    "    def fn(x):\n",
    "        traj = unflat(x, ndim, xs, xt)\n",
    "        fsmooth = 0.5*np.sum([np.linalg.norm(traj[i,:] - traj[i-1,:])**2 for i in range(1, npts+2)])\n",
    "        fobstacle = np.sum([c(xi, eps, k) for xi in x])\n",
    "        return \n",
    "    def jac(x):\n",
    "        traj = unflat(x, ndim, xs, xt)\n",
    "        grad = 2*traj[1:-1,:] - traj[2:,:] - traj[0:-2,:]\n",
    "        return flat(grad)\n",
    "    def hessian(x):\n",
    "        return hess\n",
    "    xall = []\n",
    "    def fn_call(x):\n",
    "        xall.append(x)    \n",
    "    res = scipy.optimize.minimize(fn, flat(x0), method='Newton-CG', jac=jac, hess=hessian, callback=fn_call)\n",
    "    return res, np.asarray(xall)"
   ]
  },
  {
   "cell_type": "code",
   "execution_count": 3,
   "metadata": {
    "collapsed": false
   },
   "outputs": [],
   "source": [
    "def animate_traj(xall, fname='traj.mp4'):\n",
    "    fig = plt.figure()\n",
    "    def update(i):\n",
    "        traj = unflat(xall[i, :], ndim, xs, xt)\n",
    "        plt.cla()\n",
    "        plt.axis([-0.2, 1.2, -0.2, 1.2])\n",
    "        return plt.plot(traj[:, 0], traj[:, 1], 'ro-')\n",
    "    ani = animation.FuncAnimation(fig, update, frames=range(xall.shape[0]))\n",
    "    ani.save(fname)\n",
    "    return ani"
   ]
  },
  {
   "cell_type": "code",
   "execution_count": 4,
   "metadata": {
    "collapsed": false
   },
   "outputs": [
    {
     "name": "stdout",
     "output_type": "stream",
     "text": [
      "Optimization terminated successfully.\n",
      "Evals: 16 + 9 + 8 = 33\n"
     ]
    }
   ],
   "source": [
    "ndim = 2\n",
    "xs = np.zeros(ndim)\n",
    "xt = np.ones(ndim)\n",
    "res, xall = optimize(xs, xt, x0=None)\n",
    "print res['message']\n",
    "print 'Evals:', res['njev'], '+', res['nfev'], '+', res['nhev'], '=', res['njev'] + res['nfev'] + res['nhev']"
   ]
  },
  {
   "cell_type": "code",
   "execution_count": 5,
   "metadata": {
    "collapsed": false
   },
   "outputs": [
    {
     "data": {
      "text/plain": [
       "[-0.2, 1.2, -0.2, 1.2]"
      ]
     },
     "execution_count": 5,
     "metadata": {},
     "output_type": "execute_result"
    },
    {
     "data": {
      "image/png": "[encoded data removed]",
      "text/plain": [
       "<matplotlib.figure.Figure at 0x108f846d0>"
      ]
     },
     "metadata": {},
     "output_type": "display_data"
    }
   ],
   "source": [
    "%matplotlib inline\n",
    "import matplotlib.pyplot as plt\n",
    "import matplotlib.animation as animation\n",
    "import matplotlib.cm as cm\n",
    "numplot = 10.\n",
    "mycm = cm.RdYlGn\n",
    "for j, i in enumerate(np.linspace(0, xall.shape[0]-1, numplot, dtype=np.int64)):\n",
    "    traj = unflat(xall[i, :], ndim, xs, xt)\n",
    "    im = plt.plot(traj[:, 0], traj[:, 1], 'o-', color=mycm(j/numplot))\n",
    "plt.axis([-0.2, 1.2, -0.2, 1.2])"
   ]
  },
  {
   "cell_type": "code",
   "execution_count": 6,
   "metadata": {
    "collapsed": false
   },
   "outputs": [
    {
     "data": {
      "image/png": "[encoded data removed]",
      "text/plain": [
       "<matplotlib.figure.Figure at 0x1080fc350>"
      ]
     },
     "metadata": {},
     "output_type": "display_data"
    }
   ],
   "source": [
    "ani = animate_traj(xall)"
   ]
  },
  {
   "cell_type": "code",
   "execution_count": null,
   "metadata": {
    "collapsed": true
   },
   "outputs": [],
   "source": []
  }
 ],
 "metadata": {
  "kernelspec": {
   "display_name": "Python 2",
   "language": "python",
   "name": "python2"
  },
  "language_info": {
   "codemirror_mode": {
    "name": "ipython",
    "version": 2
   },
   "file_extension": ".py",
   "mimetype": "text/x-python",
   "name": "python",
   "nbconvert_exporter": "python",
   "pygments_lexer": "ipython2",
   "version": "2.7.11"
  }
 },
 "nbformat": 4,
 "nbformat_minor": 0
}
