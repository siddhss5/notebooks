{
 "cells": [
  {
   "cell_type": "markdown",
   "metadata": {},
   "source": [
    "## Incorporating the Reimannian metric A in optimization\n",
    "Requires an optimization method that can take a Hessian or a Hessian-Product as input.\n",
    "\n",
    "[SciPy Optimize Reference](http://docs.scipy.org/doc/scipy-0.14.0/reference/tutorial/optimize.html)"
   ]
  },
  {
   "cell_type": "code",
   "execution_count": 13,
   "metadata": {
    "collapsed": true
   },
   "outputs": [],
   "source": [
    "import numpy as np\n",
    "import scipy.optimize"
   ]
  },
  {
   "cell_type": "code",
   "execution_count": 14,
   "metadata": {
    "collapsed": false
   },
   "outputs": [],
   "source": [
    "def unflat(x, ndim, xs, xt):\n",
    "    xall = x.reshape(x.shape[0]/ndim,ndim)\n",
    "    return np.vstack((xs, xall, xt))\n",
    "\n",
    "def flat(x):\n",
    "    return x.flatten()\n",
    "\n",
    "def optimize(xs, xt, x0=None):\n",
    "    '''\n",
    "    Functional gradient optimization\n",
    "    @param x0 - inital seed for waypoints\n",
    "    @param xs - fixed start configuration\n",
    "    @param xt - fixed target configuration\n",
    "    @return res - SciPy dict of optimization result\n",
    "    @return xall - (numIter x waypoints) iterations\n",
    "    '''\n",
    "    ndim = xs.shape[0]\n",
    "    if x0 is None:\n",
    "        npts = 10\n",
    "        x0 = np.random.rand(npts, ndim)\n",
    "    npts = x0.shape[0]\n",
    "    hess = np.diag([2]*npts*ndim)\n",
    "    rows = np.arange(0, npts*ndim-ndim)\n",
    "    cols = np.arange(ndim, npts*ndim)\n",
    "    hess[rows, cols] = -1\n",
    "    hess[cols, rows] = -1\n",
    "    def fn(x):\n",
    "        traj = unflat(x, ndim, xs, xt)\n",
    "        return 0.5*np.sum([np.linalg.norm(traj[i,:] - traj[i-1,:])**2 for i in range(1, npts+2)])\n",
    "    def jac(x):\n",
    "        traj = unflat(x, ndim, xs, xt)\n",
    "        grad = 2*traj[1:-1,:] - traj[2:,:] - traj[0:-2,:]\n",
    "        return flat(grad)\n",
    "    def hessian(x):\n",
    "        return hess\n",
    "    xall = []\n",
    "    def fn_call(x):\n",
    "        xall.append(x)    \n",
    "    res = scipy.optimize.minimize(fn, flat(x0), method='Newton-CG', jac=jac, hess=hessian, callback=fn_call)\n",
    "    return res, np.asarray(xall)"
   ]
  },
  {
   "cell_type": "code",
   "execution_count": 15,
   "metadata": {
    "collapsed": false
   },
   "outputs": [],
   "source": [
    "def animate_traj(xall, fname='traj.mp4'):\n",
    "    fig = plt.figure()\n",
    "    def update(i):\n",
    "        traj = unflat(xall[i, :], ndim, xs, xt)\n",
    "        plt.cla()\n",
    "        plt.axis([-0.2, 1.2, -0.2, 1.2])\n",
    "        return plt.plot(traj[:, 0], traj[:, 1], 'ro-')\n",
    "    ani = animation.FuncAnimation(fig, update, frames=range(xall.shape[0]))\n",
    "    ani.save(fname)\n",
    "    return ani"
   ]
  },
  {
   "cell_type": "code",
   "execution_count": 18,
   "metadata": {
    "collapsed": false
   },
   "outputs": [
    {
     "name": "stdout",
     "output_type": "stream",
     "text": [
      "Optimization terminated successfully. : 18 + 10 + 9 = 37\n"
     ]
    }
   ],
   "source": [
    "ndim = 2\n",
    "npts = 10\n",
    "xs = np.zeros(ndim)\n",
    "xt = np.ones(ndim)\n",
    "res, xall = optimize(xs, xt, x0=None)\n",
    "print res['message']\n",
    "print 'Evals:', res['njev'], '+', res['nfev'], '+', res['nhev'], '=', res['njev'] + res['nfev'] + res['nhev']"
   ]
  },
  {
   "cell_type": "code",
   "execution_count": 17,
   "metadata": {
    "collapsed": false
   },
   "outputs": [
    {
     "data": {
      "text/plain": [
       "[-0.2, 1.2, -0.2, 1.2]"
      ]
     },
     "execution_count": 17,
     "metadata": {},
     "output_type": "execute_result"
    },
    {
     "data": {
      "image/png": "[encoded data removed]",
      "text/plain": [
       "<matplotlib.figure.Figure at 0x105538190>"
      ]
     },
     "metadata": {},
     "output_type": "display_data"
    }
   ],
   "source": [
    "%matplotlib inline\n",
    "import matplotlib.pyplot as plt\n",
    "import matplotlib.animation as animation\n",
    "import matplotlib.cm as cm\n",
    "numplot = 10.\n",
    "mycm = cm.RdYlGn\n",
    "for j, i in enumerate(np.linspace(0, xall.shape[0]-1, numplot, dtype=np.int64)):\n",
    "    traj = unflat(xall[i, :], ndim, xs, xt)\n",
    "    im = plt.plot(traj[:, 0], traj[:, 1], 'o-', color=mycm(j/numplot))\n",
    "plt.axis([-0.2, 1.2, -0.2, 1.2])"
   ]
  },
  {
   "cell_type": "code",
   "execution_count": null,
   "metadata": {
    "collapsed": true
   },
   "outputs": [],
   "source": [
    "ani = animate_traj(xall)"
   ]
  }
 ],
 "metadata": {
  "kernelspec": {
   "display_name": "Python 2",
   "language": "python",
   "name": "python2"
  },
  "language_info": {
   "codemirror_mode": {
    "name": "ipython",
    "version": 2
   },
   "file_extension": ".py",
   "mimetype": "text/x-python",
   "name": "python",
   "nbconvert_exporter": "python",
   "pygments_lexer": "ipython2",
   "version": "2.7.11"
  }
 },
 "nbformat": 4,
 "nbformat_minor": 0
}
