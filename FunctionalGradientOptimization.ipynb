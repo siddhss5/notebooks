{
 "cells": [
  {
   "cell_type": "markdown",
   "metadata": {},
   "source": [
    "## Incorporating the Reimannian metric A in optimization\n",
    "Requires an optimization method that can take a Hessian or a Hessian-Product as input.\n",
    "\n",
    "[SciPy Optimize Reference](http://docs.scipy.org/doc/scipy-0.14.0/reference/tutorial/optimize.html)"
   ]
  },
  {
   "cell_type": "code",
   "execution_count": 1,
   "metadata": {
    "collapsed": true
   },
   "outputs": [],
   "source": [
    "import numpy as np\n",
    "import scipy.optimize"
   ]
  },
  {
   "cell_type": "code",
   "execution_count": 2,
   "metadata": {
    "collapsed": true
   },
   "outputs": [],
   "source": [
    "class SDFSphere(object):\n",
    "    def __init__(self, x, r):\n",
    "        self.x = x\n",
    "        self.r = r\n",
    "    def sdf(self, p):\n",
    "        return np.linalg.norm(p - self.x) - self.r\n",
    "    def sdfgrad(self, p):\n",
    "        import warnings\n",
    "        with warnings.catch_warnings():\n",
    "            warnings.filterwarnings('error')\n",
    "            try:\n",
    "                grad = (p - self.x)/np.linalg.norm(p - self.x)\n",
    "            except Warning as e:\n",
    "                grad = np.zeros(p.shape)\n",
    "        return grad\n",
    "\n",
    "class SDFAABB(object):\n",
    "    def __init__(self, x, dim):\n",
    "        self.x = x\n",
    "        self.dim = dim\n",
    "    def sdfandgrad(self, p):\n",
    "        sdfgrad = np.zeros(p.shape)\n",
    "        diff = (np.absolute(p - self.x) - self.dim)\n",
    "        pos = diff[diff >= 0.]\n",
    "        if pos.shape[0] == 0:\n",
    "            sdf = np.max(diff)\n",
    "            i = np.argmax(diff)\n",
    "        else:\n",
    "            sdf = np.linalg.norm(pos)\n",
    "            i = np.where(diff >= 0.)\n",
    "        sdfgrad[i] = 1\n",
    "        return sdf, sdfgrad\n",
    "    def sdf(self, p):\n",
    "        return self.sdfandgrad(p)[0]\n",
    "    def sdfgrad(self, p):\n",
    "        return self.sdfandgrad(p)[1]\n",
    "            \n",
    "class SDFSoup(object):\n",
    "    def __init__(self, geoms):\n",
    "        self.geoms = geoms\n",
    "    def sdf(self, p):\n",
    "        return np.min([s.sdf(p) for s in self.geoms])\n",
    "    def sdfgrad(self, p):\n",
    "        i = np.argmin([s.sdf(p) for s in self.geoms])\n",
    "        return self.spheres[i].sdfgrad(p)"
   ]
  },
  {
   "cell_type": "code",
   "execution_count": 15,
   "metadata": {
    "collapsed": false
   },
   "outputs": [],
   "source": [
    "geoms = []\n",
    "geoms.append(SDFSphere(np.asarray([0.25, 0.25]), 0.25))\n",
    "geoms.append(SDFSphere(np.asarray([0.75, 0.75]), 0.25))\n",
    "geoms.append(SDFAABB(np.asarray([0.5, 0.5]), np.asarray([0.25, 0.25])))\n",
    "sdf = SDFSoup(geoms)"
   ]
  },
  {
   "cell_type": "code",
   "execution_count": 16,
   "metadata": {
    "collapsed": true
   },
   "outputs": [],
   "source": [
    "def c(sdf, eps, k):\n",
    "    if (sdf > eps):\n",
    "        return 0.\n",
    "    elif (sdf > 0.):\n",
    "        return (k/2)*(sdf - eps)**2\n",
    "    else:\n",
    "        return k*eps*((eps/2) - 1)"
   ]
  },
  {
   "cell_type": "code",
   "execution_count": 17,
   "metadata": {
    "collapsed": true
   },
   "outputs": [],
   "source": [
    "# From http://stackoverflow.com/questions/20144529/shifted-colorbar-matplotlib\n",
    "from matplotlib.colors import Normalize\n",
    "\n",
    "class MidpointNormalize(Normalize):\n",
    "    def __init__(self, vmin=None, vmax=None, midpoint=None, clip=False):\n",
    "        self.midpoint = midpoint\n",
    "        Normalize.__init__(self, vmin, vmax, clip)\n",
    "\n",
    "    def __call__(self, value, clip=None):\n",
    "        x, y = [self.vmin, self.midpoint, self.vmax], [0, 0.5, 1]\n",
    "        return np.ma.masked_array(np.interp(value, x, y))"
   ]
  },
  {
   "cell_type": "code",
   "execution_count": 18,
   "metadata": {
    "collapsed": false
   },
   "outputs": [
    {
     "data": {
      "text/plain": [
       "<matplotlib.colorbar.Colorbar instance at 0x112e65098>"
      ]
     },
     "execution_count": 18,
     "metadata": {},
     "output_type": "execute_result"
    },
    {
     "data": {
      "image/png": "[encoded data removed]",
      "text/plain": [
       "<matplotlib.figure.Figure at 0x1119c3210>"
      ]
     },
     "metadata": {},
     "output_type": "display_data"
    },
    {
     "data": {
      "image/png": "[encoded data removed]",
      "text/plain": [
       "<matplotlib.figure.Figure at 0x1116c2f50>"
      ]
     },
     "metadata": {},
     "output_type": "display_data"
    }
   ],
   "source": [
    "%matplotlib inline\n",
    "import matplotlib.pyplot as plt\n",
    "delta = 0.025\n",
    "x = np.arange(0, 1.0, delta)\n",
    "y = np.arange(0, 1.0, delta)\n",
    "X, Y = np.meshgrid(x, y)\n",
    "pts = np.vstack((X.flatten(), Y.flatten())).T\n",
    "Z = np.asarray([sdf.sdf(p) for p in pts])\n",
    "eps = 0.1\n",
    "k = 0.1\n",
    "C = np.asarray([c(z, eps, k) for z in Z])\n",
    "Z = Z.reshape(X.shape)\n",
    "C = C.reshape(X.shape)\n",
    "norm = MidpointNormalize(midpoint=0.)\n",
    "CS = plt.contourf(X, Y, Z, norm=norm, cmap=plt.cm.RdBu)\n",
    "plt.axis('equal')\n",
    "plt.colorbar()\n",
    "plt.figure()\n",
    "plt.axis('equal')\n",
    "CS = plt.contourf(X, Y, C, cmap=plt.cm.gray)\n",
    "plt.colorbar()"
   ]
  },
  {
   "cell_type": "code",
   "execution_count": null,
   "metadata": {
    "collapsed": true
   },
   "outputs": [],
   "source": [
    "class CHOMP(object):\n",
    "    def __init__(self, sdf):\n",
    "        self.sdf = sdf\n",
    "    def set_traj(self, traj):\n",
    "        '''\n",
    "        Sets the trajectory and some internal members.\n",
    "        Useful if you just want to compute costs and gradients\n",
    "        without optimizing\n",
    "        '''\n",
    "        self.traj = traj\n",
    "        self.npts, self.ndim = traj[1:-1,:].shape\n",
    "    def hessian(self):\n",
    "        '''\n",
    "        Computes the [partial] Hessian for the optimization, which is\n",
    "        the Reimannian metric for smoothness\n",
    "        '''\n",
    "        hess = np.diag([2]*self.npts*self.ndim)\n",
    "        rows = np.arange(0, self.npts*self.ndim - self.ndim)\n",
    "        cols = np.arange(self.ndim, self.npts*self.ndim)\n",
    "        hess[rows, cols] = -1\n",
    "        hess[cols, rows] = -1\n",
    "        return hess\n",
    "    def jacobian(self):\n",
    "        '''\n",
    "        Computes the gradient of the smoothness cost\n",
    "        '''\n",
    "        grad = 2*self.traj[1:-1,:] - self.traj[2:,:] - self.traj[0:-2,:]\n",
    "        return grad\n",
    "    def cost(self):\n",
    "        '''\n",
    "        Computes the smoothness cost\n",
    "        '''\n",
    "        fsmooth = 0.5*np.sum([np.linalg.norm(self.traj[i,:] - self.traj[i-1,:])**2 for i in range(1, self.npts+2)])\n",
    "        return fsmooth\n",
    "    def optimize(self, x0):\n",
    "        self.set_traj(x0)\n",
    "        hess = self.hessian()\n",
    "        def unflat(x):\n",
    "            traj = x.reshape(x.shape[0]/self.ndim, self.ndim)\n",
    "            self.traj[1:-1,:] = traj\n",
    "        def flat(y):\n",
    "            return y.flatten()\n",
    "        def fn(x):\n",
    "            unflat(x)\n",
    "            return self.cost() \n",
    "        def jac(x):\n",
    "            unflat(x)\n",
    "            return flat(self.jacobian())\n",
    "        def hessian(x):\n",
    "            return hess\n",
    "        tall = []\n",
    "        def fn_call(x):\n",
    "            from copy import deepcopy\n",
    "            unflat(x)\n",
    "            tall.append(deepcopy(self.traj))    \n",
    "        res = scipy.optimize.minimize(fn, flat(self.traj[1:-1,:]), method='Newton-CG', jac=jac, hess=hessian, callback=fn_call)\n",
    "        return res, np.asarray(tall)"
   ]
  },
  {
   "cell_type": "code",
   "execution_count": null,
   "metadata": {
    "collapsed": false
   },
   "outputs": [],
   "source": [
    "sidd = CHOMP(sdf)\n",
    "ndim = 2\n",
    "npts = 10\n",
    "xs = np.zeros(ndim)\n",
    "xt = np.ones(ndim)\n",
    "x0 = np.random.rand(npts, ndim)\n",
    "x0 = np.vstack((xs, x0, xt))\n",
    "res, tall = sidd.optimize(x0)\n",
    "print res['message']\n",
    "print 'Evals:', res['njev'], '+', res['nfev'], '+', res['nhev'], '=', res['njev'] + res['nfev'] + res['nhev']"
   ]
  },
  {
   "cell_type": "code",
   "execution_count": null,
   "metadata": {
    "collapsed": false
   },
   "outputs": [],
   "source": [
    "def animate_traj(tall, fname='traj.mp4'):\n",
    "    fig = plt.figure()\n",
    "    def update(i):\n",
    "        traj = tall[i]\n",
    "        plt.cla()\n",
    "        plt.axis([-0.2, 1.2, -0.2, 1.2])\n",
    "        return plt.plot(traj[:, 0], traj[:, 1], 'ro-')\n",
    "    ani = animation.FuncAnimation(fig, update, frames=len(tall))\n",
    "    ani.save(fname)\n",
    "    return ani"
   ]
  },
  {
   "cell_type": "code",
   "execution_count": null,
   "metadata": {
    "collapsed": false
   },
   "outputs": [],
   "source": [
    "%matplotlib inline\n",
    "def plot_traj(tall):\n",
    "    import matplotlib.pyplot as plt\n",
    "    import matplotlib.animation as animation\n",
    "    import matplotlib.cm as cm\n",
    "    numplot = 10.\n",
    "    mycm = cm.RdYlGn\n",
    "    for j, i in enumerate(np.linspace(0, xall.shape[0]-1, numplot, dtype=np.int64)):\n",
    "        traj = tall[i]\n",
    "        im = plt.plot(traj[:, 0], traj[:, 1], 'o-', color=mycm(j/numplot))\n",
    "    plt.axis([-0.2, 1.2, -0.2, 1.2])"
   ]
  },
  {
   "cell_type": "code",
   "execution_count": null,
   "metadata": {
    "collapsed": false
   },
   "outputs": [],
   "source": [
    "plot_traj(tall)"
   ]
  },
  {
   "cell_type": "code",
   "execution_count": null,
   "metadata": {
    "collapsed": false
   },
   "outputs": [],
   "source": [
    "ani = animate_traj(tall)"
   ]
  },
  {
   "cell_type": "code",
   "execution_count": null,
   "metadata": {
    "collapsed": false
   },
   "outputs": [],
   "source": [
    "sidd = np.asarray([-1., 2., 3.])\n",
    "np.where(sidd > 0.)"
   ]
  },
  {
   "cell_type": "code",
   "execution_count": null,
   "metadata": {
    "collapsed": false
   },
   "outputs": [],
   "source": [
    "(1,2)[0]"
   ]
  },
  {
   "cell_type": "code",
   "execution_count": null,
   "metadata": {
    "collapsed": true
   },
   "outputs": [],
   "source": []
  }
 ],
 "metadata": {
  "kernelspec": {
   "display_name": "Python 2",
   "language": "python",
   "name": "python2"
  },
  "language_info": {
   "codemirror_mode": {
    "name": "ipython",
    "version": 2
   },
   "file_extension": ".py",
   "mimetype": "text/x-python",
   "name": "python",
   "nbconvert_exporter": "python",
   "pygments_lexer": "ipython2",
   "version": "2.7.11"
  }
 },
 "nbformat": 4,
 "nbformat_minor": 0
}
